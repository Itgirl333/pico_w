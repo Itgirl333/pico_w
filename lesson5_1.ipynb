{
 "cells": [
  {
   "cell_type": "code",
   "execution_count": 11,
   "metadata": {},
   "outputs": [
    {
     "name": "stdout",
     "output_type": "stream",
     "text": [
      "請輸入年齡:普遍級\n"
     ]
    }
   ],
   "source": [
    "#限制級：18歲或以上皆可欣賞。\n",
    "#輔導級：13(含) ~ 17歲以上皆可欣賞。\n",
    "#普遍級：12(含)歲以下皆可欣賞。\n",
    "#如果沒有輸入年齡預設為普遍級。\n",
    "\n",
    "age = pyip.inputInt(\"請輸入年齡:\",max=100, min=0, blank=True)\n",
    "\n",
    "if age:\n",
    "    if age >= 18:\n",
    "        print(\"限制級\")\n",
    "    elif age >= 13:\n",
    "        print(\"輔導級\")\n",
    "    else:\n",
    "        print(\"普遍級\")\n",
    "else:\n",
    "    print(\"普遍級\")"
   ]
  },
  {
   "cell_type": "code",
   "execution_count": 19,
   "metadata": {},
   "outputs": [
    {
     "name": "stdout",
     "output_type": "stream",
     "text": [
      "輸入顧客購買金額:74505\n"
     ]
    }
   ],
   "source": [
    "'''輸入顧客購買金額，若金額在\n",
    "100000元打8折.\n",
    "50000打85折.\n",
    "30000打9折.\n",
    "10000打95折.'''\n",
    "\n",
    "import pyinputplus as pyip\n",
    "\n",
    "price = pyip.inputInt(\"輸入顧客購買金額:\",min=0, blank=True)\n",
    "if price >= 100000:\n",
    "    price *= 0.8\n",
    "elif price >=50000:\n",
    "    price *= 0.85\n",
    "elif price >= 30000:\n",
    "    price *= 0.9\n",
    "elif price >= 10000:\n",
    "    price *= 0.95\n",
    "\n",
    "print(int(price))"
   ]
  },
  {
   "cell_type": "code",
   "execution_count": 5,
   "metadata": {},
   "outputs": [
    {
     "name": "stdout",
     "output_type": "stream",
     "text": [
      "請輸入學生成績:請輸入學生成績:請輸入學生成績:900\n"
     ]
    }
   ],
   "source": [
    "import pyinputplus as pyip\n",
    "\n",
    "sum = 0\n",
    "while True:    \n",
    "    inputValue = pyip.inputInt(\"請輸入學生成績:\")\n",
    "    if inputValue < 0:\n",
    "        break\n",
    "    sum += inputValue\n",
    "\n",
    "print(sum)\n"
   ]
  },
  {
   "cell_type": "code",
   "execution_count": null,
   "metadata": {},
   "outputs": [],
   "source": []
  }
 ],
 "metadata": {
  "kernelspec": {
   "display_name": "Python 3",
   "language": "python",
   "name": "python3"
  },
  "language_info": {
   "codemirror_mode": {
    "name": "ipython",
    "version": 3
   },
   "file_extension": ".py",
   "mimetype": "text/x-python",
   "name": "python",
   "nbconvert_exporter": "python",
   "pygments_lexer": "ipython3",
   "version": "3.10.13"
  }
 },
 "nbformat": 4,
 "nbformat_minor": 2
}
